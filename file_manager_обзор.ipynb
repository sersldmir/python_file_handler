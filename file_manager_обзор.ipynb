{
 "cells": [
  {
   "cell_type": "markdown",
   "metadata": {},
   "source": [
    "___Обзор проекта___\n",
    "\n",
    "Данное ПО позволяет взаимодействовать с файлами форматами csv, txt, pickle.\n",
    "\n",
    "С таблицами можно выполнять следующие операции - арифметические операции и операции сравнения со столбцами; слияние, разделение, склеивание таблиц; сохранение таблиц в несколько; загрузка таблиц из нескольких таблиц\n",
    "\n",
    "Файлы формата txt можно открыть как обычный файл, а можно как таблица, если есть разделители\n",
    "\n",
    "Формат pickle скорее для галочки, как некое шифрование"
   ]
  },
  {
   "cell_type": "markdown",
   "metadata": {},
   "source": []
  }
 ],
 "metadata": {
  "kernelspec": {
   "display_name": "Python 3.9.7 ('base')",
   "language": "python",
   "name": "python3"
  },
  "language_info": {
   "name": "python",
   "version": "3.9.7"
  },
  "orig_nbformat": 4,
  "vscode": {
   "interpreter": {
    "hash": "00aef3b98e4ccb3322387f6c47ad24282262e1fd4d41067bd78cec0ceaa17bd0"
   }
  }
 },
 "nbformat": 4,
 "nbformat_minor": 2
}
